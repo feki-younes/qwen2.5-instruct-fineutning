{
 "cells": [
  {
   "cell_type": "code",
   "execution_count": 1,
   "id": "1cc241a1-b2fa-4c12-82be-81d78de56e90",
   "metadata": {},
   "outputs": [
    {
     "name": "stderr",
     "output_type": "stream",
     "text": [
      "C:\\Users\\FEKIYOU\\myenvs\\signature\\Lib\\site-packages\\tqdm\\auto.py:21: TqdmWarning: IProgress not found. Please update jupyter and ipywidgets. See https://ipywidgets.readthedocs.io/en/stable/user_install.html\n",
      "  from .autonotebook import tqdm as notebook_tqdm\n"
     ]
    }
   ],
   "source": [
    "import torch\n",
    "from transformers import AutoModelForCausalLM, AutoTokenizer"
   ]
  },
  {
   "cell_type": "code",
   "execution_count": 2,
   "id": "e1807403-c06d-422e-a6ac-b0be8e102321",
   "metadata": {},
   "outputs": [],
   "source": [
    "def format_prompt(tokenizer, constat: str, recommandation = None, system_prompt= \"Tu es un expert en audit et contrôle interne. Tu génères des recommandations professionnelles et détaillées basées sur les constats d'audit fournis.\") -> str:\n",
    "\t\"\"\"Format prompt using chat template\"\"\"\n",
    "\tmessages = [\n",
    "\t\t{\"role\": \"system\", \"content\": system_prompt},\n",
    "\t\t{\"role\": \"user\", \"content\": f\"Constat d'audit:\\n{constat}\\n\\nGénère des recommandations détaillées pour ce constat.\"}\n",
    "\t]\n",
    "\t\n",
    "\tif recommandation:\n",
    "\t\tmessages.append({\"role\": \"assistant\", \"content\": recommandation})\n",
    "\t\n",
    "\treturn tokenizer.apply_chat_template(\n",
    "\t\tmessages,\n",
    "\t\ttokenize=False,\n",
    "\t\t\t\t\t\tadd_generation_prompt=recommandation is None\n",
    "\t\t)\n",
    "\t\n",
    "def generate_answer_from_text(model, tokenizer, input_text, device='cuda'):\n",
    "\tprompt = format_prompt(tokenizer, input_text)\n",
    "\tinputs = tokenizer(\n",
    "\t\tprompt,\n",
    "\t\treturn_tensors=\"pt\",\n",
    "\t\ttruncation=True,\n",
    "\t\tmax_length=2048\n",
    "\t).to(device)\n",
    "\twith torch.no_grad():\n",
    "\t\toutputs = model.generate(\n",
    "\t\t\t**inputs,\n",
    "\t\t\tmax_new_tokens=1024,\n",
    "\t\t\ttemperature=0,\n",
    "\t\t\ttop_p=0.9,\n",
    "\t\t\ttop_k=50,\n",
    "\t\t\trepetition_penalty=1.1,\n",
    "\t\t\tpad_token_id=tokenizer.pad_token_id,\n",
    "\t\t\teos_token_id=tokenizer.eos_token_id,\n",
    "\t\t\tdo_sample=False\n",
    "\t\t)\t\n",
    "\tresponse = tokenizer.decode(outputs[0], skip_special_tokens=True)\n",
    "\t# Extract only the assistant's response\n",
    "\tif \"Génère des recommandations détaillées pour ce constat.\\nassistant\" in response:\n",
    "\t\tresponse = response.split(\"Génère des recommandations détaillées pour ce constat.\\nassistant\")[-1].strip()\n",
    "\treturn response"
   ]
  },
  {
   "cell_type": "code",
   "execution_count": 3,
   "id": "80a45b01-2e7f-4d57-b255-46e5f47cbb7b",
   "metadata": {},
   "outputs": [
    {
     "name": "stderr",
     "output_type": "stream",
     "text": [
      "Loading checkpoint shards: 100%|████████████████████████████████████████████████████████████████████████████████████████████████████████████████████████████████████████████████████| 2/2 [00:00<00:00, 28.84it/s]\n"
     ]
    }
   ],
   "source": [
    "device= \"cuda\"\n",
    "\n",
    "model_name = \"Qwen2.5-1.5B-Instruct-RecoDrafter/\"  # Example: \"gpt2\", \"llama-7b\", etc.\n",
    "# Load the pre-trained base model\n",
    "model = AutoModelForCausalLM.from_pretrained(model_name).to(device)\n",
    "# Load the tokenizer\n",
    "tokenizer = AutoTokenizer.from_pretrained(model_name)"
   ]
  },
  {
   "cell_type": "code",
   "execution_count": 4,
   "id": "6d05d797-59bd-454b-a6a6-1de054e2b000",
   "metadata": {},
   "outputs": [],
   "source": [
    "# Example usage: generate text from the model\n",
    "input_text = \"- Le comité des risques n’a pas examiné si les prix des produits et services proposés aux clients sont compatibles avec la stratégie en matière de risques, ni proposé de plan d’action en cas d’incompatibilité, conformément aux attributions définies dans l’Actualité Juridique 2015-26.  \\n- Le comité des risques n’a pas analysé la compatibilité des incitations de rémunération avec la situation de la Caisse au regard des risques, du capital, de la liquidité et de la probabilité des bénéfices, conformément aux attributions définies dans l’Actualité Juridique 2015-26.  \\n- Le comité des nominations n’a pas fixé d’objectif à atteindre en matière de parité hommes-femmes, ni élaboré une politique pour y parvenir, malgré des taux de féminisation inférieurs à 40 %, conformément aux exigences de l’Actualité Juridique 2015-26.  \\n- Le comité des nominations n’a pas évalué la structure, la taille, la composition et l’efficacité des travaux du Conseil d’Administration, conformément aux exigences annuelles définies dans l’Actualité Juridique 2015-26.  \\n- Le comité des nominations n’a pas vérifié la non domination du Conseil d’Administration par une personne ou un petit groupe de personnes, conformément aux exigences définies dans l’Actualité Juridique 2015-26.  \\n- Le comité des nominations n’a pas suivi suffisamment l’évolution des connaissances, expériences et compétences des administrateurs, conformément aux exigences définies dans l’Actualité Juridique 2015-26.  \\n- Le comité des nominations a présenté les résultats d’un questionnaire d’auto-évaluation daté du 19/02/2019, mais n’a pas analysé en détail les besoins de formation identifiés (69 % des administrateurs signalant des lacunes en marchés financiers et gestion de la Caisse).  \\n- L’assiduité des administrateurs aux formations a été insuffisante en 2018 (13 sur 23), en 2019 (9 sur 23) et en 2020 (11 sur 23), traduisant un suivi inadéquat par le comité des nominations.  \\n- Le plan de formation 2020 n’a pas été présenté au comité des nominations, bien que la validation du plan 2021 ait eu lieu en février 2021.  \\n- Le comité des nominations a effectué une analyse des profils des candidats au poste d’administrateur et a suivi le taux de féminisation des Conseils d’Administration, mais les informations présentées ne couvrent pas toutes les exigences réglementaires.  \\n- Le comité des nominations a présenté des taux de féminisation pour les années 2018, 2019 et 2020, mais ces données n’ont pas été accompagnées d’une analyse approfondie ou d’une communication formelle à l’ACPR.  \\n- Le comité des nominations a suivi annuellement le niveau de parité hommes-femmes, mais n’a pas mis en place de mécanismes de suivi ou d’évaluation de l’efficacité de cette démarche.  \\n- Le comité des nominations a participé à la validation du plan de formation 2021, mais n’a pas été impliqué dans la présentation ou le suivi du plan 2020, ce qui pourrait affecter la continuité des actions.\""
   ]
  },
  {
   "cell_type": "code",
   "execution_count": 7,
   "id": "67e409dd-966c-42e7-b632-7ff0d21dca8e",
   "metadata": {},
   "outputs": [
    {
     "name": "stderr",
     "output_type": "stream",
     "text": [
      "The following generation flags are not valid and may be ignored: ['temperature', 'top_p']. Set `TRANSFORMERS_VERBOSITY=info` for more details.\n"
     ]
    },
    {
     "name": "stdout",
     "output_type": "stream",
     "text": [
      "- 1ère recommandation: Compléter le suivi réalisé en comités des nominations d'administrateurs de la Caisse régionale en veillant à :\n",
      "\n",
      "\t• Rappeler l’obligation de réaliser une auto-évaluation de la connaissance et des capacités à exercer les fonctions d’administrateur ;\n",
      "\t• Présenter un état des lieux semestriel de l'évolution des connaissances, expériences et compétences des Administrateurs de la Caisse régionale permettant de répondre aux différents challenges de notre Gestion.\n",
      "\n",
      "Livrables attendus :\n",
      "\n",
      "\t• Supports et PV des comités des nominations tenus sur deux occurrences intégrant les éléments demandés par la recommandation\n",
      "- 2ème recommandation: Renforcer le processus de sélection des nouveaux administrateurs de la Caisse régionale en veillant à :\n",
      "\n",
      "\t• Mettre en place un processus de sélection des Administrateurs intégrant un point de contrôle relatif à la parité homme/femme ;\n",
      "\t• Amender la formalisation de la demande de renouvellement des mandats afin d'intégrer expressément la nécessité de respecter la proportionnelité hommes/femmes dans les conseils d'administration ;\n",
      "\t• Réaliser une communication formelle à l'instance de surveillance de la Fonction Gestion des Risques, l'ACPR, s'agissant du taux de féminisation des Conseils d'Administration et des plans d'action associés le cas échéant.\n",
      "\n",
      "Livrables attendus :\n",
      "\n",
      "\t• Support et PV du comité des nominations validant le processus de sélection des nouveaux administrateurs de la Caisse régionale ;\n",
      "\t• Communication formelle à l'ACPR quant au taux de féminisation des Conseils d'Administration et plan d'action associé le cas échéant.\n",
      "- 3ème recommandation: Renforcer l'implication du Comité des Nominations dans le processus de sélection des nouveaux administrateurs de la Caisse régionale en veillant à :\n",
      "\n",
      "\t• Intégrer systématiquement dans le corps procédural de la Caisse régionale les exigences de la LJ 2015-26 relative à la nomination des administrateurs de la Caisse régionale ;\n",
      "\t• Effectuer un suivi trimestriel en Comité des Nominations du respect des dispositions de la LJ 2015-26 relative à la nomination des nouveaux administrateurs de la Caisse régionale.\n",
      "\n",
      "Livrables attendus :\n",
      "\n",
      "\t• Procédure encadrant les modalités de sélection des nouveaux administrateurs complétée des exigences de la LJ 2015-26;\n",
      "\t• PV et supports du Comité des nominations tenus sur trois occurrences réalisant le suivi du respect des dispositions de la LJ 2015-26\n"
     ]
    }
   ],
   "source": [
    "print(generate_answer_from_text(model, tokenizer, input_text))"
   ]
  }
 ],
 "metadata": {
  "kernelspec": {
   "display_name": "Python 3 (ipykernel)",
   "language": "python",
   "name": "python3"
  },
  "language_info": {
   "codemirror_mode": {
    "name": "ipython",
    "version": 3
   },
   "file_extension": ".py",
   "mimetype": "text/x-python",
   "name": "python",
   "nbconvert_exporter": "python",
   "pygments_lexer": "ipython3",
   "version": "3.11.4"
  }
 },
 "nbformat": 4,
 "nbformat_minor": 5
}
